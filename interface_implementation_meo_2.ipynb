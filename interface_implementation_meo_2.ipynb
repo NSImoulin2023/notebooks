{
 "cells": [
  {
   "cell_type": "markdown",
   "id": "ee3bcd78",
   "metadata": {},
   "source": [
    "# Correction exercice I.I. Mise en oeuvre 2.\n",
    "\n",
    "## tests\n",
    " \n",
    " - a=10 b=30 résultat=10\n",
    " - a=1  b=5  résultat=1\n",
    " - a=30 b=5  résultat=5\n",
    " - a=12 b=8  résultat=4\n",
    " \n",
    " Manifestement cela calcule le Plus Grand Diviseur Commun des nombres a et b.\n",
    " \n",
    "## Exemples :\n",
    " - a=12 et b=4\n",
    " \n",
    " $12=1\\times 8+4$\n",
    " \n",
    " $8=2\\times 4+0$\n",
    " \n",
    " PGCD = dernier reste non nul = 4\n",
    " \n",
    " On a donc $\\dfrac{12}{8}=\\dfrac{3\\times4}{2\\times4}=\\dfrac{3}{2}$\n",
    " \n",
    " - a=48 et b=..."
   ]
  },
  {
   "cell_type": "code",
   "execution_count": 7,
   "id": "723e91d2",
   "metadata": {},
   "outputs": [],
   "source": [
    "def mystere(a, b):\n",
    "    \"\"\"Implémentation de l'algorithme d'Euclide\n",
    "    \n",
    "    :param int a: entier\n",
    "    :param int b: entier\n",
    "    :rtype: int\n",
    "    \n",
    "    >>> mystere(12, 8)\n",
    "    4\n",
    "    >>> mystere(1, 5)\n",
    "    1\n",
    "    \"\"\"\n",
    "    if a < b:\n",
    "        a, b = b, a\n",
    "        \n",
    "    while b > 0:\n",
    "        a, b = b, a % b\n",
    "\n",
    "    return a"
   ]
  },
  {
   "cell_type": "code",
   "execution_count": 8,
   "id": "38edc022",
   "metadata": {},
   "outputs": [],
   "source": [
    "algo_euclide = mystere"
   ]
  },
  {
   "cell_type": "code",
   "execution_count": 10,
   "id": "97b90e71",
   "metadata": {},
   "outputs": [
    {
     "data": {
      "text/plain": [
       "4"
      ]
     },
     "execution_count": 10,
     "metadata": {},
     "output_type": "execute_result"
    }
   ],
   "source": [
    "algo_euclide(76, 48)"
   ]
  },
  {
   "cell_type": "code",
   "execution_count": null,
   "id": "3ca7e15a",
   "metadata": {},
   "outputs": [],
   "source": []
  }
 ],
 "metadata": {
  "kernelspec": {
   "display_name": "Python 3 (ipykernel)",
   "language": "python",
   "name": "python3"
  },
  "language_info": {
   "codemirror_mode": {
    "name": "ipython",
    "version": 3
   },
   "file_extension": ".py",
   "mimetype": "text/x-python",
   "name": "python",
   "nbconvert_exporter": "python",
   "pygments_lexer": "ipython3",
   "version": "3.10.6"
  }
 },
 "nbformat": 4,
 "nbformat_minor": 5
}
