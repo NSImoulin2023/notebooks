{
 "cells": [
  {
   "cell_type": "markdown",
   "id": "0d2b8847",
   "metadata": {},
   "source": [
    "# Interface implémentation\n",
    "## Mise en oeuvre\n",
    "\n",
    "**Question 1**"
   ]
  },
  {
   "cell_type": "code",
   "execution_count": 2,
   "id": "a9b3159b",
   "metadata": {},
   "outputs": [],
   "source": [
    "def p_g_e(liste):\n",
    "    \"\"\" Renvoie l'élément de plus grand d'une liste.\n",
    "    Attention la liste initiale est modifiée.\n",
    "    \n",
    "    :param list(int) liste: tableau d'entiers\n",
    "    :rtype: int\n",
    "    \n",
    "    >>> p_g_e([3, 9, 1, 2])\n",
    "    9\n",
    "    \"\"\"\n",
    "    \n",
    "    n = len(liste)\n",
    "    for i in range(1, n):\n",
    "        if liste[i - 1] > liste[i]:\n",
    "            liste[i - 1], liste[i] = liste[i], liste[i - 1]\n",
    "    return liste[n - 1]"
   ]
  },
  {
   "cell_type": "code",
   "execution_count": 3,
   "id": "c36a3a07",
   "metadata": {},
   "outputs": [
    {
     "data": {
      "text/plain": [
       "TestResults(failed=0, attempted=1)"
      ]
     },
     "execution_count": 3,
     "metadata": {},
     "output_type": "execute_result"
    }
   ],
   "source": [
    "import doctest\n",
    "doctest.testmod()"
   ]
  },
  {
   "cell_type": "code",
   "execution_count": null,
   "id": "e257ddf9",
   "metadata": {},
   "outputs": [],
   "source": []
  }
 ],
 "metadata": {
  "kernelspec": {
   "display_name": "Python 3 (ipykernel)",
   "language": "python",
   "name": "python3"
  },
  "language_info": {
   "codemirror_mode": {
    "name": "ipython",
    "version": 3
   },
   "file_extension": ".py",
   "mimetype": "text/x-python",
   "name": "python",
   "nbconvert_exporter": "python",
   "pygments_lexer": "ipython3",
   "version": "3.10.6"
  }
 },
 "nbformat": 4,
 "nbformat_minor": 5
}
